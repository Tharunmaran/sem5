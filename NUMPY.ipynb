{
 "cells": [
  {
   "cell_type": "code",
   "execution_count": 2,
   "id": "b1ffb0af",
   "metadata": {},
   "outputs": [],
   "source": [
    "import numpy as np"
   ]
  },
  {
   "cell_type": "code",
   "execution_count": 3,
   "id": "96043754",
   "metadata": {},
   "outputs": [],
   "source": [
    "ari=np.array(6)"
   ]
  },
  {
   "cell_type": "raw",
   "id": "4b9f2502",
   "metadata": {},
   "source": [
    "dd"
   ]
  },
  {
   "cell_type": "code",
   "execution_count": 4,
   "id": "b194b18b",
   "metadata": {},
   "outputs": [
    {
     "data": {
      "text/plain": [
       "array(6)"
      ]
     },
     "execution_count": 4,
     "metadata": {},
     "output_type": "execute_result"
    }
   ],
   "source": [
    "ari"
   ]
  },
  {
   "cell_type": "code",
   "execution_count": 5,
   "id": "d8ab6f59",
   "metadata": {},
   "outputs": [
    {
     "data": {
      "text/plain": [
       "numpy.ndarray"
      ]
     },
     "execution_count": 5,
     "metadata": {},
     "output_type": "execute_result"
    }
   ],
   "source": [
    "type(ari)"
   ]
  },
  {
   "cell_type": "code",
   "execution_count": 6,
   "id": "dd1ac25c",
   "metadata": {},
   "outputs": [],
   "source": [
    "ari2=np.array([2,3,5,6,7])"
   ]
  },
  {
   "cell_type": "code",
   "execution_count": 7,
   "id": "d9cc5254",
   "metadata": {},
   "outputs": [
    {
     "data": {
      "text/plain": [
       "array([2, 3, 5, 6, 7])"
      ]
     },
     "execution_count": 7,
     "metadata": {},
     "output_type": "execute_result"
    }
   ],
   "source": [
    "ari2"
   ]
  },
  {
   "cell_type": "code",
   "execution_count": 8,
   "id": "47b88fb3",
   "metadata": {},
   "outputs": [],
   "source": [
    "ari3=np.array([[2,3,5,6],[1,4,8,9]])"
   ]
  },
  {
   "cell_type": "code",
   "execution_count": 9,
   "id": "c7fc5a21",
   "metadata": {},
   "outputs": [
    {
     "data": {
      "text/plain": [
       "array([[2, 3, 5, 6],\n",
       "       [1, 4, 8, 9]])"
      ]
     },
     "execution_count": 9,
     "metadata": {},
     "output_type": "execute_result"
    }
   ],
   "source": [
    "ari3"
   ]
  },
  {
   "cell_type": "markdown",
   "id": "54929f6f",
   "metadata": {},
   "source": [
    "# array types \n",
    "\n",
    "1.zero array\n",
    "2.ones array\n",
    "3.empty array\n",
    "4.array for range"
   ]
  },
  {
   "cell_type": "markdown",
   "id": "1045c9a5",
   "metadata": {},
   "source": [
    "#  ZERO ARRAY"
   ]
  },
  {
   "cell_type": "code",
   "execution_count": 10,
   "id": "6513849f",
   "metadata": {},
   "outputs": [],
   "source": [
    "ar_zero=np.zeros((2,2))"
   ]
  },
  {
   "cell_type": "code",
   "execution_count": 11,
   "id": "fef5f0fb",
   "metadata": {},
   "outputs": [
    {
     "data": {
      "text/plain": [
       "array([[0., 0.],\n",
       "       [0., 0.]])"
      ]
     },
     "execution_count": 11,
     "metadata": {},
     "output_type": "execute_result"
    }
   ],
   "source": [
    "ar_zero"
   ]
  },
  {
   "cell_type": "markdown",
   "id": "89702070",
   "metadata": {},
   "source": [
    "#  RANGE ARRAY"
   ]
  },
  {
   "cell_type": "code",
   "execution_count": 12,
   "id": "63e9f603",
   "metadata": {},
   "outputs": [],
   "source": [
    "ar_range=np.arange(2,15,2)"
   ]
  },
  {
   "cell_type": "code",
   "execution_count": 13,
   "id": "6806f01b",
   "metadata": {},
   "outputs": [
    {
     "data": {
      "text/plain": [
       "array([ 2,  4,  6,  8, 10, 12, 14])"
      ]
     },
     "execution_count": 13,
     "metadata": {},
     "output_type": "execute_result"
    }
   ],
   "source": [
    "ar_range"
   ]
  },
  {
   "cell_type": "markdown",
   "id": "b2c58185",
   "metadata": {},
   "source": [
    "# transpose of  array"
   ]
  },
  {
   "cell_type": "code",
   "execution_count": 14,
   "id": "fd17cdf0",
   "metadata": {},
   "outputs": [
    {
     "data": {
      "text/plain": [
       "array([[2, 3, 5, 6],\n",
       "       [1, 4, 8, 9]])"
      ]
     },
     "execution_count": 14,
     "metadata": {},
     "output_type": "execute_result"
    }
   ],
   "source": [
    "ari3"
   ]
  },
  {
   "cell_type": "code",
   "execution_count": 15,
   "id": "80060979",
   "metadata": {},
   "outputs": [],
   "source": [
    "ar5=np.transpose(ari3)"
   ]
  },
  {
   "cell_type": "code",
   "execution_count": 16,
   "id": "ee6f01db",
   "metadata": {},
   "outputs": [
    {
     "data": {
      "text/plain": [
       "array([[2, 1],\n",
       "       [3, 4],\n",
       "       [5, 8],\n",
       "       [6, 9]])"
      ]
     },
     "execution_count": 16,
     "metadata": {},
     "output_type": "execute_result"
    }
   ],
   "source": [
    "ar5"
   ]
  },
  {
   "cell_type": "code",
   "execution_count": 17,
   "id": "274fbc58",
   "metadata": {},
   "outputs": [],
   "source": [
    "ar6=np.ravel(ar5)"
   ]
  },
  {
   "cell_type": "code",
   "execution_count": 18,
   "id": "4e3f3874",
   "metadata": {},
   "outputs": [
    {
     "data": {
      "text/plain": [
       "array([2, 1, 3, 4, 5, 8, 6, 9])"
      ]
     },
     "execution_count": 18,
     "metadata": {},
     "output_type": "execute_result"
    }
   ],
   "source": [
    "ar6"
   ]
  },
  {
   "cell_type": "code",
   "execution_count": 19,
   "id": "86bcd1ba",
   "metadata": {},
   "outputs": [],
   "source": [
    "a1=np.array([2,3,4,5])"
   ]
  },
  {
   "cell_type": "code",
   "execution_count": 20,
   "id": "7033990f",
   "metadata": {},
   "outputs": [],
   "source": [
    "a2=np.array([9,7,4,5])"
   ]
  },
  {
   "cell_type": "code",
   "execution_count": 21,
   "id": "1fe58ece",
   "metadata": {},
   "outputs": [],
   "source": [
    "hori=np.hstack(a1)#a1,a2"
   ]
  },
  {
   "cell_type": "code",
   "execution_count": 22,
   "id": "3d49bc39",
   "metadata": {},
   "outputs": [],
   "source": [
    "verti=np.vstack(a1)"
   ]
  },
  {
   "cell_type": "code",
   "execution_count": 23,
   "id": "f0cd8181",
   "metadata": {},
   "outputs": [
    {
     "data": {
      "text/plain": [
       "array([2, 3, 4, 5])"
      ]
     },
     "execution_count": 23,
     "metadata": {},
     "output_type": "execute_result"
    }
   ],
   "source": [
    "hori"
   ]
  },
  {
   "cell_type": "code",
   "execution_count": 24,
   "id": "a036bc0d",
   "metadata": {},
   "outputs": [
    {
     "data": {
      "text/plain": [
       "array([[2],\n",
       "       [3],\n",
       "       [4],\n",
       "       [5]])"
      ]
     },
     "execution_count": 24,
     "metadata": {},
     "output_type": "execute_result"
    }
   ],
   "source": [
    "verti"
   ]
  },
  {
   "cell_type": "markdown",
   "id": "962e8edd",
   "metadata": {},
   "source": [
    "# determinant and  inverse"
   ]
  },
  {
   "cell_type": "code",
   "execution_count": 34,
   "id": "9da7d297",
   "metadata": {},
   "outputs": [],
   "source": [
    "mat1=np.array([[6,3,4],[1,3,29],[4,5,6]])"
   ]
  },
  {
   "cell_type": "code",
   "execution_count": 35,
   "id": "4c5c9ee0",
   "metadata": {},
   "outputs": [
    {
     "data": {
      "text/plain": [
       "array([[ 6,  3,  4],\n",
       "       [ 1,  3, 29],\n",
       "       [ 4,  5,  6]])"
      ]
     },
     "execution_count": 35,
     "metadata": {},
     "output_type": "execute_result"
    }
   ],
   "source": [
    "mat1"
   ]
  },
  {
   "cell_type": "code",
   "execution_count": 36,
   "id": "5bcc20fe",
   "metadata": {},
   "outputs": [],
   "source": [
    "det_df=np.linalg.det(mat1)"
   ]
  },
  {
   "cell_type": "code",
   "execution_count": 38,
   "id": "05372665",
   "metadata": {},
   "outputs": [
    {
     "data": {
      "text/plain": [
       "-459.9999999999997"
      ]
     },
     "execution_count": 38,
     "metadata": {},
     "output_type": "execute_result"
    }
   ],
   "source": [
    "det_df"
   ]
  },
  {
   "cell_type": "code",
   "execution_count": null,
   "id": "83464d39",
   "metadata": {},
   "outputs": [],
   "source": []
  }
 ],
 "metadata": {
  "kernelspec": {
   "display_name": "Python 3 (ipykernel)",
   "language": "python",
   "name": "python3"
  },
  "language_info": {
   "codemirror_mode": {
    "name": "ipython",
    "version": 3
   },
   "file_extension": ".py",
   "mimetype": "text/x-python",
   "name": "python",
   "nbconvert_exporter": "python",
   "pygments_lexer": "ipython3",
   "version": "3.9.7"
  }
 },
 "nbformat": 4,
 "nbformat_minor": 5
}
